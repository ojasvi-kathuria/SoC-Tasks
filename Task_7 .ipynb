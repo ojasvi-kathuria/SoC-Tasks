{
  "nbformat": 4,
  "nbformat_minor": 0,
  "metadata": {
    "accelerator": "GPU",
    "colab": {
      "name": "Task 7.ipynb",
      "provenance": []
    },
    "kernelspec": {
      "display_name": "Python 3",
      "name": "python3"
    },
    "language_info": {
      "name": "python"
    }
  },
  "cells": [
    {
      "cell_type": "code",
      "metadata": {
        "colab": {
          "base_uri": "https://localhost:8080/",
          "height": 74
        },
        "id": "p2qsv9g450nx",
        "outputId": "4c484c2a-b7ef-4bf8-e486-58aca0d874ff"
      },
      "source": [
        "#@title Default title text\n",
        "from IPython.display import clear_output\n",
        "import os, urllib.request\n",
        "HOME = os.path.expanduser(\"~\")\n",
        "pathDoneCMD = f'{HOME}/doneCMD.sh'\n",
        "if not os.path.exists(f\"{HOME}/.ipython/ttmg.py\"):\n",
        "    hCode = \"https://raw.githubusercontent.com/yunooooo/gcct/master/res/ttmg.py\"\n",
        "    urllib.request.urlretrieve(hCode, f\"{HOME}/.ipython/ttmg.py\")\n",
        "\n",
        "from ttmg import (\n",
        "    loadingAn,\n",
        "    textAn,\n",
        ")\n",
        "loadingAn(name=\"lds\")\n",
        "textAn(\"Installing Dependencies...\", ty='twg')\n",
        "\n",
        "os.system('pip install bing-image-downloader')\n",
        "os.system('pip install face_recognition')\n",
        "from sklearn.cluster import DBSCAN\n",
        "from imutils import build_montages\n",
        "import numpy as np\n",
        "from bing_image_downloader import downloader\n",
        "from requests import exceptions\n",
        "from google.colab import drive\n",
        "import os\n",
        "from imutils import paths\n",
        "import pickle\n",
        "import cv2\n",
        "from google.colab.patches import cv2_imshow\n",
        "from imutils.video import VideoStream\n",
        "import face_recognition\n",
        "import imutils\n",
        "import time\n",
        "\n",
        "clear_output()\n",
        "print('Installation finished.')"
      ],
      "execution_count": null,
      "outputs": [
        {
          "output_type": "stream",
          "text": [
            "Installation finished.\n"
          ],
          "name": "stdout"
        }
      ]
    },
    {
      "cell_type": "code",
      "metadata": {
        "colab": {
          "base_uri": "https://localhost:8080/",
          "height": 161
        },
        "id": "nRrg2wS355iT",
        "outputId": "593d8e43-b73c-4b2d-be93-fb35eaa36781"
      },
      "source": [
        "HOME = os.path.expanduser(\"~\")\n",
        "pathDoneCMD = f'{HOME}/doneCMD.sh'\n",
        "if not os.path.exists(f\"{HOME}/.ipython/ttmg.py\"):\n",
        "    hCode = \"https://raw.githubusercontent.com/yunooooo/gcct/master/res/ttmg.py\"\n",
        "    urllib.request.urlretrieve(hCode, f\"{HOME}/.ipython/ttmg.py\")\n",
        "\n",
        "from ttmg import (\n",
        "    loadingAn,\n",
        "    textAn,\n",
        ")\n",
        "loadingAn(name=\"lds\")\n",
        "textAn(\"Installing Dependencies...\", ty='twg')\n",
        "\n",
        "drive.mount('/content/drive')\n",
        "\n",
        "\n",
        "clear_output()\n",
        "print('Drive mounted.')"
      ],
      "execution_count": null,
      "outputs": [
        {
          "output_type": "stream",
          "text": [
            "Drive mounted.\n"
          ],
          "name": "stdout"
        }
      ]
    },
    {
      "cell_type": "code",
      "metadata": {
        "colab": {
          "base_uri": "https://localhost:8080/"
        },
        "id": "Onshgm8c6S_f",
        "outputId": "385e0aa0-8e95-4a45-8d87-9677afd2e85e"
      },
      "source": [
        "#@title Select Source of Pictures\n",
        "\n",
        "#text = 'value' #@param {type:\"string\"}\n",
        "Choices = 'Personal GDrive images' #@param [\"Online images\", \"Personal GDrive images\"]\n",
        "\n",
        "\n",
        "#print(text)\n",
        "print('Selected: ', Choices)\n",
        "#print(text_and_dropdown)"
      ],
      "execution_count": null,
      "outputs": [
        {
          "output_type": "stream",
          "text": [
            "Selected:  Personal GDrive images\n"
          ],
          "name": "stdout"
        }
      ]
    },
    {
      "cell_type": "code",
      "metadata": {
        "id": "rVuQxDSG6ltt",
        "colab": {
          "base_uri": "https://localhost:8080/"
        },
        "outputId": "f944208c-f93a-4672-8cd5-a19e188cb8ed"
      },
      "source": [
        "#@title ←  Enter address of GDrive folder <font size=\"2\"> (If selected personal photos option)</font>\n",
        "bool_personal = False\n",
        "Address = '' #@param {type:\"string\"}\n",
        "#Choices = 'Personal GDrive images' #@param [\"Online images\", \"Personal GDrive images\"]\n",
        "# Names_lower = Names.lower().replace(' ', '_')\n",
        "# var_list = Names_lower.split(\",\")\n",
        "# #print(Names)\n",
        "# my_list = Names.split(\",\")\n",
        "drive_path = '/content/drive'\n",
        "final_address = os.path.join(drive_path,Address)\n",
        "if (len(Address)>0):\n",
        "    bool_personal = True\n",
        "    print('Final Address: ')\n",
        "    print(final_address)  "
      ],
      "execution_count": null,
      "outputs": [
        {
          "output_type": "stream",
          "text": [
            "Final Address: \n",
            "/content/drive/My Drive/my_dataset1\n"
          ],
          "name": "stdout"
        }
      ]
    },
    {
      "cell_type": "code",
      "metadata": {
        "colab": {
          "base_uri": "https://localhost:8080/"
        },
        "id": "Gb0Dw1GO_XZ_",
        "outputId": "8a82146c-bc13-4a08-e10b-56b2a72966a2"
      },
      "source": [
        "#@title ← Enter names of persons <font size=\"2\"> (If selected Online Images) (comma separated) </font>\n",
        "\n",
        "Names = '' #@param {type:\"string\"}\n",
        "#Choices = 'Personal GDrive images' #@param [\"Online images\", \"Personal GDrive images\"]\n",
        "Names_lower = Names.lower().replace(' ', '_')\n",
        "var_list = Names_lower.split(\",\")\n",
        "#print(Names)\n",
        "my_list = Names.split(\",\")\n",
        "print('Selected: ')\n",
        "print(*my_list, sep = \", \")  \n",
        "\n",
        "#print(text_and_dropdown)"
      ],
      "execution_count": null,
      "outputs": [
        {
          "output_type": "stream",
          "text": [
            "Selected: \n",
            "dilip joshi,  disha vakani,  munmun dutta,  neha mehta\n"
          ],
          "name": "stdout"
        }
      ]
    },
    {
      "cell_type": "code",
      "metadata": {
        "colab": {
          "base_uri": "https://localhost:8080/"
        },
        "id": "ioMn_v14_tu2",
        "outputId": "eaaadb8b-483b-45fd-f8e6-820e41ebf814"
      },
      "source": [
        "#@title ← Enter output directory for downloading images\n",
        "\n",
        "Directory = '' #@param {type:\"string\"}\n",
        "#Choices = 'Personal GDrive images' #@param [\"Online images\", \"Personal GDrive images\"]\n",
        "# Names_lower = Names.lower().replace(' ', '_')\n",
        "# var_list = Names_lower.split(\",\")\n",
        "#print(Names)\n",
        "# my_list = Names.split(\",\")\n",
        "# user_output = 'datasetv7'\n",
        "output_directory = os.path.join(\"drive/MyDrive/\",Directory)\n",
        "\n",
        "print('Final directory: ')\n",
        "print(output_directory)  \n",
        "\n",
        "#print(text_and_dropdown)"
      ],
      "execution_count": null,
      "outputs": [
        {
          "output_type": "stream",
          "text": [
            "Final directory: \n",
            "drive/MyDrive/my_dataset1\n"
          ],
          "name": "stdout"
        }
      ]
    },
    {
      "cell_type": "code",
      "metadata": {
        "colab": {
          "base_uri": "https://localhost:8080/"
        },
        "id": "ATPtPiVIBFST",
        "outputId": "4b33a40d-c448-4287-8ab9-9bc946ca1e2a"
      },
      "source": [
        "#@title ← How many images each person you want <font size =\"2\"> (30-50 are enough) </font>\n",
        "Number = \"\" #@param {type:\"string\"}\n",
        "Number = int(Number)\n",
        "#Choices = 'Personal GDrive images' #@param [\"Online images\", \"Personal GDrive images\"]\n",
        "# Names_lower = Names.lower().replace(' ', '_')\n",
        "# var_list = Names_lower.split(\",\")\n",
        "#print(Names)\n",
        "# my_list = Names.split(\",\")\n",
        "# user_output = 'datasetv7'\n",
        "# output_directory = os.path.join(\"drive/MyDrive/\",Directory)\n",
        "\n",
        "#print(Final Directory :)\n",
        "print(Number)\n",
        "\n",
        "#print(text_and_dropdown)\n"
      ],
      "execution_count": null,
      "outputs": [
        {
          "output_type": "stream",
          "text": [
            "15\n"
          ],
          "name": "stdout"
        }
      ]
    },
    {
      "cell_type": "code",
      "metadata": {
        "colab": {
          "base_uri": "https://localhost:8080/",
          "height": 229
        },
        "id": "28__4Wk5CM2u",
        "outputId": "7fbd0e49-e22e-4be3-8730-896ef882e5c9"
      },
      "source": [
        "#@title ← Download the images  <font size=\"2\">(30-50 are enough)</font>\n",
        "\n",
        "categories={}\n",
        "for i in range(len(my_list)):\n",
        "    categories[var_list[i]] = my_list[i]\n",
        "img_paths = {}\n",
        "loadingAn(name=\"lds\")\n",
        "textAn(\"Downloading images...\", ty='twg')\n",
        "\n",
        "for query, name in categories.items():\n",
        "    # img_paths[name] = download_images(query=query, \n",
        "    #                                   output_directory=output_directory,\n",
        "    #                                   image_directory=name)\n",
        "    downloader.download(name, limit=Number,  output_dir=output_directory, \n",
        "    adult_filter_off=True, force_replace=False, timeout=60)\n",
        "    #clear_output()\n",
        "clear_output()\n",
        "print(\"Downloaded\")"
      ],
      "execution_count": null,
      "outputs": [
        {
          "output_type": "error",
          "ename": "NameError",
          "evalue": "ignored",
          "traceback": [
            "\u001b[0;31m---------------------------------------------------------------------------\u001b[0m",
            "\u001b[0;31mNameError\u001b[0m                                 Traceback (most recent call last)",
            "\u001b[0;32m<ipython-input-7-33e838091e39>\u001b[0m in \u001b[0;36m<module>\u001b[0;34m()\u001b[0m\n\u001b[1;32m      2\u001b[0m \u001b[0;34m\u001b[0m\u001b[0m\n\u001b[1;32m      3\u001b[0m \u001b[0mcategories\u001b[0m\u001b[0;34m=\u001b[0m\u001b[0;34m{\u001b[0m\u001b[0;34m}\u001b[0m\u001b[0;34m\u001b[0m\u001b[0;34m\u001b[0m\u001b[0m\n\u001b[0;32m----> 4\u001b[0;31m \u001b[0;32mfor\u001b[0m \u001b[0mi\u001b[0m \u001b[0;32min\u001b[0m \u001b[0mrange\u001b[0m\u001b[0;34m(\u001b[0m\u001b[0mlen\u001b[0m\u001b[0;34m(\u001b[0m\u001b[0mmy_list\u001b[0m\u001b[0;34m)\u001b[0m\u001b[0;34m)\u001b[0m\u001b[0;34m:\u001b[0m\u001b[0;34m\u001b[0m\u001b[0;34m\u001b[0m\u001b[0m\n\u001b[0m\u001b[1;32m      5\u001b[0m     \u001b[0mcategories\u001b[0m\u001b[0;34m[\u001b[0m\u001b[0mvar_list\u001b[0m\u001b[0;34m[\u001b[0m\u001b[0mi\u001b[0m\u001b[0;34m]\u001b[0m\u001b[0;34m]\u001b[0m \u001b[0;34m=\u001b[0m \u001b[0mmy_list\u001b[0m\u001b[0;34m[\u001b[0m\u001b[0mi\u001b[0m\u001b[0;34m]\u001b[0m\u001b[0;34m\u001b[0m\u001b[0;34m\u001b[0m\u001b[0m\n\u001b[1;32m      6\u001b[0m \u001b[0mimg_paths\u001b[0m \u001b[0;34m=\u001b[0m \u001b[0;34m{\u001b[0m\u001b[0;34m}\u001b[0m\u001b[0;34m\u001b[0m\u001b[0;34m\u001b[0m\u001b[0m\n",
            "\u001b[0;31mNameError\u001b[0m: name 'my_list' is not defined"
          ]
        }
      ]
    },
    {
      "cell_type": "code",
      "metadata": {
        "colab": {
          "base_uri": "https://localhost:8080/"
        },
        "id": "M9s3p92MCxzx",
        "outputId": "4e42e7c3-22e3-4e6d-cff4-d57f1a6284c1"
      },
      "source": [
        "#@title ← To get face encodings of all images  <font size=\"2\">(30-50 are enough)</font>\n",
        "\n",
        "if (bool_personal):\n",
        "  output_directory =  final_address\n",
        "\n",
        "imagePaths = list(paths.list_images(os.path.join('/content/',output_directory)))\n",
        "\n",
        "knownEncodings = []\n",
        "knownNames = []\n",
        "\n",
        "for (i, imagePath) in enumerate(imagePaths):\n",
        "  if (i%20==0):    \n",
        "      print(\"[INFO] processing image {}/{}\".format(i + 1,\n",
        "        len(imagePaths)))\n",
        "  name = imagePath.split(os.path.sep)[-2]\n",
        "  image = cv2.imread(imagePath)\n",
        "  if image is None:\n",
        "      print(\"[INFO] deleting: {}\".format(imagePath))\n",
        "      os.remove(imagePath)\n",
        "      continue\n",
        "  rgb = cv2.cvtColor(image, cv2.COLOR_BGR2RGB)\n",
        "  boxes = face_recognition.face_locations(rgb,\n",
        "    model=\"hog\")\n",
        "  encodings = face_recognition.face_encodings(rgb, boxes)\n",
        "  for encoding in encodings:\n",
        "    knownEncodings.append(encoding)\n",
        "    knownNames.append(name)\n",
        "clear_output()\n",
        "print(\"Processed all %d images\" % (len(imagePaths)))"
      ],
      "execution_count": null,
      "outputs": [
        {
          "output_type": "stream",
          "text": [
            "Processed all 60 images\n"
          ],
          "name": "stdout"
        }
      ]
    },
    {
      "cell_type": "code",
      "metadata": {
        "colab": {
          "base_uri": "https://localhost:8080/"
        },
        "id": "rYJzlPw9Exd9",
        "outputId": "b3aad0dc-ce40-48bf-fada-7825c0a24b15"
      },
      "source": [
        "#@title ← To serialize face encodings of all images \n",
        "print(\"[INFO] serializing encodings...\")\n",
        "data = {\"encodings\": knownEncodings, \"names\": knownNames}\n",
        "f = open(\"encodings.pickle\", \"wb\")\n",
        "f.write(pickle.dumps(data))\n",
        "f.close()\n",
        "clear_output()\n",
        "print(\"Serialized the encoding\")"
      ],
      "execution_count": null,
      "outputs": [
        {
          "output_type": "stream",
          "text": [
            "Serialized the encoding\n"
          ],
          "name": "stdout"
        }
      ]
    },
    {
      "cell_type": "code",
      "metadata": {
        "colab": {
          "resources": {
            "http://localhost:8080/nbextensions/google.colab/files.js": {
              "data": "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",
              "ok": true,
              "headers": [
                [
                  "content-type",
                  "application/javascript"
                ]
              ],
              "status": 200,
              "status_text": ""
            }
          },
          "base_uri": "https://localhost:8080/",
          "height": 90
        },
        "id": "BX37Lm-SHr6b",
        "outputId": "c14f4af6-e392-4449-9b2b-3d8831f03a93"
      },
      "source": [
        "#@title ←  Upload test image\n",
        "from google.colab import files\n",
        "\n",
        "uploaded = files.upload()\n",
        "\n",
        "for fn in uploaded.keys():\n",
        "  print('User uploaded file \"{name}\" with length {length} bytes'.format(\n",
        "      name=fn, length=len(uploaded[fn])))\n",
        "key, value = list(uploaded.items())[0]\n",
        "filename=key\n",
        "clear_output()\n",
        "print(\"Image loaded\")"
      ],
      "execution_count": null,
      "outputs": [
        {
          "output_type": "stream",
          "text": [
            "Image loaded\n"
          ],
          "name": "stdout"
        }
      ]
    },
    {
      "cell_type": "code",
      "metadata": {
        "id": "4_dgUkz8IGC0"
      },
      "source": [
        "#@title ←  Results on test image\n",
        "#print(\"[INFO] loading encodings...\")\n",
        "data = pickle.loads(open(\"/content/encodings.pickle\", \"rb\").read())\n",
        "# load the input image and convert it from BGR to RGB\n",
        "image = cv2.imread(os.path.join('/content/',filename))\n",
        "image = imutils.resize(image, width=500)\n",
        "rgb = cv2.cvtColor(image, cv2.COLOR_BGR2RGB)\n",
        "\n",
        "# detect the (x, y)-coordinates of the bounding boxes corresponding\n",
        "# to each face in the input image, then compute the facial embeddings\n",
        "# for each face\n",
        "#print(\"[INFO] recognizing faces...\")\n",
        "boxes = face_recognition.face_locations(rgb,\n",
        "\tmodel=\"cnn\")\n",
        "encodings = face_recognition.face_encodings(rgb, boxes)\n",
        "# initialize the list of names for each face detected\n",
        "names = []\n",
        "for encoding in encodings:\n",
        "\t# attempt to match each face in the input image to our known\n",
        "\t# encodings\n",
        "\tmatches = face_recognition.compare_faces(data[\"encodings\"],\n",
        "\t\tencoding)\n",
        "\tname = \"Unknown\"\n",
        "  \t# check to see if we have found a match\n",
        "\tif True in matches:\n",
        "\t\t# find the indexes of all matched faces then initialize a\n",
        "\t\t# dictionary to count the total number of times each face\n",
        "\t\t# was matched\n",
        "\t\tmatchedIdxs = [i for (i, b) in enumerate(matches) if b]\n",
        "\t\tcounts = {}\n",
        "\t\t# loop over the matched indexes and maintain a count for\n",
        "\t\t# each recognized face face\n",
        "\t\tfor i in matchedIdxs:\n",
        "\t\t\tname = data[\"names\"][i]\n",
        "\t\t\tcounts[name] = counts.get(name, 0) + 1\n",
        "\t\t# determine the recognized face with the largest number of\n",
        "\t\t# votes (note: in the event of an unlikely tie Python will\n",
        "\t\t# select first entry in the dictionary)\n",
        "\t\tname = max(counts, key=counts.get)\n",
        "\t\n",
        "\t# update the list of names\n",
        "\tnames.append(name)\n",
        "for ((top, right, bottom, left), name) in zip(boxes, names):\n",
        "\t# draw the predicted face name on the image\n",
        "\tcv2.rectangle(image, (left, top), (right, bottom), (255, 0, 0), 2)\n",
        "\ty = top - 15 if top - 15 > 15 else top + 15\n",
        "\tcv2.putText(image, name, (left, y), cv2.FONT_HERSHEY_SIMPLEX,\n",
        "\t\t0.55, (255, 0, 0), 2)\n",
        "# show the output image\n",
        "cv2_imshow(image)"
      ],
      "execution_count": null,
      "outputs": []
    },
    {
      "cell_type": "code",
      "metadata": {
        "colab": {
          "background_save": true,
          "resources": {
            "http://localhost:8080/nbextensions/google.colab/files.js": {
              "data": "Ly8gQ29weXJpZ2h0IDIwMTcgR29vZ2xlIExMQwovLwovLyBMaWNlbnNlZCB1bmRlciB0aGUgQXBhY2hlIExpY2Vuc2UsIFZlcnNpb24gMi4wICh0aGUgIkxpY2Vuc2UiKTsKLy8geW91IG1heSBub3QgdXNlIHRoaXMgZmlsZSBleGNlcHQgaW4gY29tcGxpYW5jZSB3aXRoIHRoZSBMaWNlbnNlLgovLyBZb3UgbWF5IG9idGFpbiBhIGNvcHkgb2YgdGhlIExpY2Vuc2UgYXQKLy8KLy8gICAgICBodHRwOi8vd3d3LmFwYWNoZS5vcmcvbGljZW5zZXMvTElDRU5TRS0yLjAKLy8KLy8gVW5sZXNzIHJlcXVpcmVkIGJ5IGFwcGxpY2FibGUgbGF3IG9yIGFncmVlZCB0byBpbiB3cml0aW5nLCBzb2Z0d2FyZQovLyBkaXN0cmlidXRlZCB1bmRlciB0aGUgTGljZW5zZSBpcyBkaXN0cmlidXRlZCBvbiBhbiAiQVMgSVMiIEJBU0lTLAovLyBXSVRIT1VUIFdBUlJBTlRJRVMgT1IgQ09ORElUSU9OUyBPRiBBTlkgS0lORCwgZWl0aGVyIGV4cHJlc3Mgb3IgaW1wbGllZC4KLy8gU2VlIHRoZSBMaWNlbnNlIGZvciB0aGUgc3BlY2lmaWMgbGFuZ3VhZ2UgZ292ZXJuaW5nIHBlcm1pc3Npb25zIGFuZAovLyBsaW1pdGF0aW9ucyB1bmRlciB0aGUgTGljZW5zZS4KCi8qKgogKiBAZmlsZW92ZXJ2aWV3IEhlbHBlcnMgZm9yIGdvb2dsZS5jb2xhYiBQeXRob24gbW9kdWxlLgogKi8KKGZ1bmN0aW9uKHNjb3BlKSB7CmZ1bmN0aW9uIHNwYW4odGV4dCwgc3R5bGVBdHRyaWJ1dGVzID0ge30pIHsKICBjb25zdCBlbGVtZW50ID0gZG9jdW1lbnQuY3JlYXRlRWxlbWVudCgnc3BhbicpOwogIGVsZW1lbnQudGV4dENvbnRlbnQgPSB0ZXh0OwogIGZvciAoY29uc3Qga2V5IG9mIE9iamVjdC5rZXlzKHN0eWxlQXR0cmlidXRlcykpIHsKICAgIGVsZW1lbnQuc3R5bGVba2V5XSA9IHN0eWxlQXR0cmlidXRlc1trZXldOwogIH0KICByZXR1cm4gZWxlbWVudDsKfQoKLy8gTWF4IG51bWJlciBvZiBieXRlcyB3aGljaCB3aWxsIGJlIHVwbG9hZGVkIGF0IGEgdGltZS4KY29uc3QgTUFYX1BBWUxPQURfU0laRSA9IDEwMCAqIDEwMjQ7CgpmdW5jdGlvbiBfdXBsb2FkRmlsZXMoaW5wdXRJZCwgb3V0cHV0SWQpIHsKICBjb25zdCBzdGVwcyA9IHVwbG9hZEZpbGVzU3RlcChpbnB1dElkLCBvdXRwdXRJZCk7CiAgY29uc3Qgb3V0cHV0RWxlbWVudCA9IGRvY3VtZW50LmdldEVsZW1lbnRCeUlkKG91dHB1dElkKTsKICAvLyBDYWNoZSBzdGVwcyBvbiB0aGUgb3V0cHV0RWxlbWVudCB0byBtYWtlIGl0IGF2YWlsYWJsZSBmb3IgdGhlIG5leHQgY2FsbAogIC8vIHRvIHVwbG9hZEZpbGVzQ29udGludWUgZnJvbSBQeXRob24uCiAgb3V0cHV0RWxlbWVudC5zdGVwcyA9IHN0ZXBzOwoKICByZXR1cm4gX3VwbG9hZEZpbGVzQ29udGludWUob3V0cHV0SWQpOwp9CgovLyBUaGlzIGlzIHJvdWdobHkgYW4gYXN5bmMgZ2VuZXJhdG9yIChub3Qgc3VwcG9ydGVkIGluIHRoZSBicm93c2VyIHlldCksCi8vIHdoZXJlIHRoZXJlIGFyZSBtdWx0aXBsZSBhc3luY2hyb25vdXMgc3RlcHMgYW5kIHRoZSBQeXRob24gc2lkZSBpcyBnb2luZwovLyB0byBwb2xsIGZvciBjb21wbGV0aW9uIG9mIGVhY2ggc3RlcC4KLy8gVGhpcyB1c2VzIGEgUHJvbWlzZSB0byBibG9jayB0aGUgcHl0aG9uIHNpZGUgb24gY29tcGxldGlvbiBvZiBlYWNoIHN0ZXAsCi8vIHRoZW4gcGFzc2VzIHRoZSByZXN1bHQgb2YgdGhlIHByZXZpb3VzIHN0ZXAgYXMgdGhlIGlucHV0IHRvIHRoZSBuZXh0IHN0ZXAuCmZ1bmN0aW9uIF91cGxvYWRGaWxlc0NvbnRpbnVlKG91dHB1dElkKSB7CiAgY29uc3Qgb3V0cHV0RWxlbWVudCA9IGRvY3VtZW50LmdldEVsZW1lbnRCeUlkKG91dHB1dElkKTsKICBjb25zdCBzdGVwcyA9IG91dHB1dEVsZW1lbnQuc3RlcHM7CgogIGNvbnN0IG5leHQgPSBzdGVwcy5uZXh0KG91dHB1dEVsZW1lbnQubGFzdFByb21pc2VWYWx1ZSk7CiAgcmV0dXJuIFByb21pc2UucmVzb2x2ZShuZXh0LnZhbHVlLnByb21pc2UpLnRoZW4oKHZhbHVlKSA9PiB7CiAgICAvLyBDYWNoZSB0aGUgbGFzdCBwcm9taXNlIHZhbHVlIHRvIG1ha2UgaXQgYXZhaWxhYmxlIHRvIHRoZSBuZXh0CiAgICAvLyBzdGVwIG9mIHRoZSBnZW5lcmF0b3IuCiAgICBvdXRwdXRFbGVtZW50Lmxhc3RQcm9taXNlVmFsdWUgPSB2YWx1ZTsKICAgIHJldHVybiBuZXh0LnZhbHVlLnJlc3BvbnNlOwogIH0pOwp9CgovKioKICogR2VuZXJhdG9yIGZ1bmN0aW9uIHdoaWNoIGlzIGNhbGxlZCBiZXR3ZWVuIGVhY2ggYXN5bmMgc3RlcCBvZiB0aGUgdXBsb2FkCiAqIHByb2Nlc3MuCiAqIEBwYXJhbSB7c3RyaW5nfSBpbnB1dElkIEVsZW1lbnQgSUQgb2YgdGhlIGlucHV0IGZpbGUgcGlja2VyIGVsZW1lbnQuCiAqIEBwYXJhbSB7c3RyaW5nfSBvdXRwdXRJZCBFbGVtZW50IElEIG9mIHRoZSBvdXRwdXQgZGlzcGxheS4KICogQHJldHVybiB7IUl0ZXJhYmxlPCFPYmplY3Q+fSBJdGVyYWJsZSBvZiBuZXh0IHN0ZXBzLgogKi8KZnVuY3Rpb24qIHVwbG9hZEZpbGVzU3RlcChpbnB1dElkLCBvdXRwdXRJZCkgewogIGNvbnN0IGlucHV0RWxlbWVudCA9IGRvY3VtZW50LmdldEVsZW1lbnRCeUlkKGlucHV0SWQpOwogIGlucHV0RWxlbWVudC5kaXNhYmxlZCA9IGZhbHNlOwoKICBjb25zdCBvdXRwdXRFbGVtZW50ID0gZG9jdW1lbnQuZ2V0RWxlbWVudEJ5SWQob3V0cHV0SWQpOwogIG91dHB1dEVsZW1lbnQuaW5uZXJIVE1MID0gJyc7CgogIGNvbnN0IHBpY2tlZFByb21pc2UgPSBuZXcgUHJvbWlzZSgocmVzb2x2ZSkgPT4gewogICAgaW5wdXRFbGVtZW50LmFkZEV2ZW50TGlzdGVuZXIoJ2NoYW5nZScsIChlKSA9PiB7CiAgICAgIHJlc29sdmUoZS50YXJnZXQuZmlsZXMpOwogICAgfSk7CiAgfSk7CgogIGNvbnN0IGNhbmNlbCA9IGRvY3VtZW50LmNyZWF0ZUVsZW1lbnQoJ2J1dHRvbicpOwogIGlucHV0RWxlbWVudC5wYXJlbnRFbGVtZW50LmFwcGVuZENoaWxkKGNhbmNlbCk7CiAgY2FuY2VsLnRleHRDb250ZW50ID0gJ0NhbmNlbCB1cGxvYWQnOwogIGNvbnN0IGNhbmNlbFByb21pc2UgPSBuZXcgUHJvbWlzZSgocmVzb2x2ZSkgPT4gewogICAgY2FuY2VsLm9uY2xpY2sgPSAoKSA9PiB7CiAgICAgIHJlc29sdmUobnVsbCk7CiAgICB9OwogIH0pOwoKICAvLyBXYWl0IGZvciB0aGUgdXNlciB0byBwaWNrIHRoZSBmaWxlcy4KICBjb25zdCBmaWxlcyA9IHlpZWxkIHsKICAgIHByb21pc2U6IFByb21pc2UucmFjZShbcGlja2VkUHJvbWlzZSwgY2FuY2VsUHJvbWlzZV0pLAogICAgcmVzcG9uc2U6IHsKICAgICAgYWN0aW9uOiAnc3RhcnRpbmcnLAogICAgfQogIH07CgogIGNhbmNlbC5yZW1vdmUoKTsKCiAgLy8gRGlzYWJsZSB0aGUgaW5wdXQgZWxlbWVudCBzaW5jZSBmdXJ0aGVyIHBpY2tzIGFyZSBub3QgYWxsb3dlZC4KICBpbnB1dEVsZW1lbnQuZGlzYWJsZWQgPSB0cnVlOwoKICBpZiAoIWZpbGVzKSB7CiAgICByZXR1cm4gewogICAgICByZXNwb25zZTogewogICAgICAgIGFjdGlvbjogJ2NvbXBsZXRlJywKICAgICAgfQogICAgfTsKICB9CgogIGZvciAoY29uc3QgZmlsZSBvZiBmaWxlcykgewogICAgY29uc3QgbGkgPSBkb2N1bWVudC5jcmVhdGVFbGVtZW50KCdsaScpOwogICAgbGkuYXBwZW5kKHNwYW4oZmlsZS5uYW1lLCB7Zm9udFdlaWdodDogJ2JvbGQnfSkpOwogICAgbGkuYXBwZW5kKHNwYW4oCiAgICAgICAgYCgke2ZpbGUudHlwZSB8fCAnbi9hJ30pIC0gJHtmaWxlLnNpemV9IGJ5dGVzLCBgICsKICAgICAgICBgbGFzdCBtb2RpZmllZDogJHsKICAgICAgICAgICAgZmlsZS5sYXN0TW9kaWZpZWREYXRlID8gZmlsZS5sYXN0TW9kaWZpZWREYXRlLnRvTG9jYWxlRGF0ZVN0cmluZygpIDoKICAgICAgICAgICAgICAgICAgICAgICAgICAgICAgICAgICAgJ24vYSd9IC0gYCkpOwogICAgY29uc3QgcGVyY2VudCA9IHNwYW4oJzAlIGRvbmUnKTsKICAgIGxpLmFwcGVuZENoaWxkKHBlcmNlbnQpOwoKICAgIG91dHB1dEVsZW1lbnQuYXBwZW5kQ2hpbGQobGkpOwoKICAgIGNvbnN0IGZpbGVEYXRhUHJvbWlzZSA9IG5ldyBQcm9taXNlKChyZXNvbHZlKSA9PiB7CiAgICAgIGNvbnN0IHJlYWRlciA9IG5ldyBGaWxlUmVhZGVyKCk7CiAgICAgIHJlYWRlci5vbmxvYWQgPSAoZSkgPT4gewogICAgICAgIHJlc29sdmUoZS50YXJnZXQucmVzdWx0KTsKICAgICAgfTsKICAgICAgcmVhZGVyLnJlYWRBc0FycmF5QnVmZmVyKGZpbGUpOwogICAgfSk7CiAgICAvLyBXYWl0IGZvciB0aGUgZGF0YSB0byBiZSByZWFkeS4KICAgIGxldCBmaWxlRGF0YSA9IHlpZWxkIHsKICAgICAgcHJvbWlzZTogZmlsZURhdGFQcm9taXNlLAogICAgICByZXNwb25zZTogewogICAgICAgIGFjdGlvbjogJ2NvbnRpbnVlJywKICAgICAgfQogICAgfTsKCiAgICAvLyBVc2UgYSBjaHVua2VkIHNlbmRpbmcgdG8gYXZvaWQgbWVzc2FnZSBzaXplIGxpbWl0cy4gU2VlIGIvNjIxMTU2NjAuCiAgICBsZXQgcG9zaXRpb24gPSAwOwogICAgZG8gewogICAgICBjb25zdCBsZW5ndGggPSBNYXRoLm1pbihmaWxlRGF0YS5ieXRlTGVuZ3RoIC0gcG9zaXRpb24sIE1BWF9QQVlMT0FEX1NJWkUpOwogICAgICBjb25zdCBjaHVuayA9IG5ldyBVaW50OEFycmF5KGZpbGVEYXRhLCBwb3NpdGlvbiwgbGVuZ3RoKTsKICAgICAgcG9zaXRpb24gKz0gbGVuZ3RoOwoKICAgICAgY29uc3QgYmFzZTY0ID0gYnRvYShTdHJpbmcuZnJvbUNoYXJDb2RlLmFwcGx5KG51bGwsIGNodW5rKSk7CiAgICAgIHlpZWxkIHsKICAgICAgICByZXNwb25zZTogewogICAgICAgICAgYWN0aW9uOiAnYXBwZW5kJywKICAgICAgICAgIGZpbGU6IGZpbGUubmFtZSwKICAgICAgICAgIGRhdGE6IGJhc2U2NCwKICAgICAgICB9LAogICAgICB9OwoKICAgICAgbGV0IHBlcmNlbnREb25lID0gZmlsZURhdGEuYnl0ZUxlbmd0aCA9PT0gMCA/CiAgICAgICAgICAxMDAgOgogICAgICAgICAgTWF0aC5yb3VuZCgocG9zaXRpb24gLyBmaWxlRGF0YS5ieXRlTGVuZ3RoKSAqIDEwMCk7CiAgICAgIHBlcmNlbnQudGV4dENvbnRlbnQgPSBgJHtwZXJjZW50RG9uZX0lIGRvbmVgOwoKICAgIH0gd2hpbGUgKHBvc2l0aW9uIDwgZmlsZURhdGEuYnl0ZUxlbmd0aCk7CiAgfQoKICAvLyBBbGwgZG9uZS4KICB5aWVsZCB7CiAgICByZXNwb25zZTogewogICAgICBhY3Rpb246ICdjb21wbGV0ZScsCiAgICB9CiAgfTsKfQoKc2NvcGUuZ29vZ2xlID0gc2NvcGUuZ29vZ2xlIHx8IHt9OwpzY29wZS5nb29nbGUuY29sYWIgPSBzY29wZS5nb29nbGUuY29sYWIgfHwge307CnNjb3BlLmdvb2dsZS5jb2xhYi5fZmlsZXMgPSB7CiAgX3VwbG9hZEZpbGVzLAogIF91cGxvYWRGaWxlc0NvbnRpbnVlLAp9Owp9KShzZWxmKTsK",
              "headers": [
                [
                  "content-type",
                  "application/javascript"
                ]
              ],
              "ok": true,
              "status": 200,
              "status_text": ""
            }
          },
          "base_uri": "https://localhost:8080/",
          "height": 39
        },
        "id": "lNnC6OemIdhv",
        "outputId": "b2b26da7-ef08-415b-d21c-f1b6777b7f2d"
      },
      "source": [
        "#@title ←  Upload test video\n",
        "from google.colab import files\n",
        "\n",
        "uploaded = files.upload()\n",
        "\n",
        "for fn in uploaded.keys():\n",
        "  print('User uploaded file \"{name}\" with length {length} bytes'.format(\n",
        "      name=fn, length=len(uploaded[fn])))\n",
        "key, value = list(uploaded.items())[0]\n",
        "filename=key\n",
        "clear_output()\n",
        "print(\"Video loaded\")"
      ],
      "execution_count": null,
      "outputs": [
        {
          "output_type": "display_data",
          "data": {
            "text/html": [
              "\n",
              "     <input type=\"file\" id=\"files-6f2a1620-b328-48c9-bf5a-0f9c8fe20d6b\" name=\"files[]\" multiple disabled\n",
              "        style=\"border:none\" />\n",
              "     <output id=\"result-6f2a1620-b328-48c9-bf5a-0f9c8fe20d6b\">\n",
              "      Upload widget is only available when the cell has been executed in the\n",
              "      current browser session. Please rerun this cell to enable.\n",
              "      </output>\n",
              "      <script src=\"/nbextensions/google.colab/files.js\"></script> "
            ],
            "text/plain": [
              "<IPython.core.display.HTML object>"
            ]
          },
          "metadata": {
            "tags": []
          }
        }
      ]
    },
    {
      "cell_type": "code",
      "metadata": {
        "id": "KWK3mtAUK3Pk"
      },
      "source": [
        "#@title ←  Get face-identified video in output folder\n",
        "cap = cv2.VideoCapture(os.path.join('/content/',filename))\n",
        "length = int(cap.get(cv2.CAP_PROP_FRAME_COUNT))\n",
        "data = pickle.loads(open(\"/content/encodings.pickle\", \"rb\").read())\n",
        "# initialize the video stream and pointer to output video file, then\n",
        "# allow the camera sensor to warm up\n",
        "vs = VideoStream(src=0).start()\n",
        "writer = None\n",
        "time.sleep(2.0)\n",
        "input=os.path.join('/content/',filename)\n",
        "#str(output_directory)+'/video_result.mp4'\n",
        "output = str(output_directory)+'/video_result.mp4'\n",
        "display_ = 1\n",
        "video_file=True\n",
        "vs = cv2.VideoCapture(input)\n",
        "cur_frame=0\n",
        "\n",
        "while True:\n",
        "  \n",
        "  if video_file:\n",
        "        (grabbed, frame) = vs.read()\n",
        "        if not grabbed:\n",
        "            break\n",
        "  else:\n",
        "        frame = vs.read()\n",
        "  cur_frame+=1\n",
        "  if (cur_frame%100==0):\n",
        "      print(\"Processing %d / %d frame\" %(cur_frame,length))\n",
        "\n",
        "  rgb = cv2.cvtColor(frame, cv2.COLOR_BGR2RGB)\n",
        "  rgb = imutils.resize(frame, width=750)\n",
        "  r = frame.shape[1] / float(rgb.shape[1])\n",
        "  boxes = face_recognition.face_locations(rgb,model=\"cnn\") \n",
        "  encodings = face_recognition.face_encodings(rgb, boxes)\n",
        "  names = []\n",
        "  for encoding in encodings:\n",
        "\n",
        "    matches = face_recognition.compare_faces(data[\"encodings\"],encoding)\n",
        "    name = \"Unknown\"  \n",
        "    if True in matches:\n",
        "        matchedIdxs = [i for (i, b) in enumerate(matches) if b]\n",
        "        counts = {}\n",
        "\n",
        "        for i in matchedIdxs:\n",
        "          name = data[\"names\"][i]\n",
        "          counts[name] = counts.get(name, 0) + 1\n",
        "  \n",
        "        name = max(counts, key=counts.get)\n",
        "\n",
        "        names.append(name)\n",
        "  for ((top, right, bottom, left), name) in zip(boxes, names):\n",
        "\n",
        "        top = int(top * r)\n",
        "        right = int(right * r)\n",
        "        bottom = int(bottom * r)\n",
        "        left = int(left * r)\n",
        "\n",
        "        cv2.rectangle(frame, (left, top), (right, bottom),\n",
        "          (0, 255, 0), 2)\n",
        "        y = top - 15 if top - 15 > 15 else top + 15\n",
        "        cv2.putText(frame, name, (left, y), cv2.FONT_HERSHEY_SIMPLEX,\n",
        "          0.75, (0, 255, 0), 2)\n",
        "  if writer is None and output is not None:\n",
        "      fourcc = cv2.VideoWriter_fourcc(*\"MJPG\")\n",
        "      writer = cv2.VideoWriter(output, fourcc, 20,\n",
        "        (frame.shape[1], frame.shape[0]), True)\n",
        "  if writer is not None:\n",
        "    writer.write(frame)\n",
        "\n",
        "vs.release()\n",
        "\n",
        "if writer is not None:\n",
        "  writer.release()\n",
        "clear_output()\n",
        "print('Saved video to: ',end='')\n",
        "print(str(output_directory)+'/video_result.mp4')"
      ],
      "execution_count": null,
      "outputs": []
    },
    {
      "cell_type": "code",
      "metadata": {
        "id": "NtF1sNXzLM9b"
      },
      "source": [
        "#@title ← See Montage of similar faces\n",
        "loadingAn(name=\"lds\")\n",
        "textAn(\"Building Montage...\", ty='twg')\n",
        "dataset_cluster = output_directory\n",
        "#print(\"[INFO] quantifying faces...\")\n",
        "imagePaths = list(paths.list_images(dataset_cluster))\n",
        "data = []\n",
        "imagePaths.reverse()\n",
        "# loop over the image paths\n",
        "for (i, imagePath) in enumerate(imagePaths):\n",
        "  # load the input image and convert it from RGB (OpenCV ordering)\n",
        "  # to dlib ordering (RGB)\n",
        "  if((i+1)%50==0):\n",
        "    print(\"[INFO] processing image {}/{}\".format(i + 1,\n",
        "      len(imagePaths)))\n",
        "  #print(imagePath)\n",
        "  image = cv2.imread(imagePath)\n",
        "  if image is None:\n",
        "      #print(\"[INFO] deleting: {}\".format(imagePath))\n",
        "      os.remove(imagePath)\n",
        "      continue\n",
        "  else:\n",
        "      rgb = cv2.cvtColor(image, cv2.COLOR_BGR2RGB)\n",
        "      boxes = face_recognition.face_locations(rgb,\n",
        "        model='hog')\n",
        "        # compute the facial embedding for the face\n",
        "      encodings = face_recognition.face_encodings(rgb, boxes)\n",
        "      d = [{\"imagePath\": imagePath, \"loc\": box, \"encoding\": enc}\n",
        "        for (box, enc) in zip(boxes, encodings)]\n",
        "      data.extend(d)\n",
        "#print(\"[INFO] serializing encodings...\")\n",
        "f = open('encodings_cluster.pickle', \"wb\")\n",
        "f.write(pickle.dumps(data))\n",
        "f.close()\n",
        "#print(\"[INFO] loading encodings...\")\n",
        "data = pickle.loads(open('encodings_cluster.pickle', \"rb\").read())\n",
        "data = np.array(data)\n",
        "encodings = [d[\"encoding\"] for d in data]\n",
        "#print(\"[INFO] clustering...\")\n",
        "clt = DBSCAN(metric=\"euclidean\", n_jobs=-1)\n",
        "clt.fit(encodings)\n",
        "# determine the total number of unique faces found in the dataset\n",
        "labelIDs = np.unique(clt.labels_)\n",
        "numUniqueFaces = len(np.where(labelIDs > -1)[0])\n",
        "clear_output()\n",
        "print(\"[INFO] # Unique faces: {}\".format(numUniqueFaces))\n",
        "for labelID in labelIDs[1:]:\n",
        "  # find all indexes into the `data` array that belong to the\n",
        "  # current label ID, then randomly sample a maximum of 25 indexes\n",
        "  # from the set\n",
        "  print(\"[INFO] faces for face ID: {}\".format(labelID))\n",
        "  idxs = np.where(clt.labels_ == labelID)[0]\n",
        "  idxs = np.random.choice(idxs, size=min(25, len(idxs)),\n",
        "    replace=False)\n",
        "  # initialize the list of faces to include in the montage\n",
        "  faces = []\n",
        "  for i in idxs:\n",
        "    # load the input image and extract the face ROI\n",
        "    #print(data[i][\"imagePath\"])\n",
        "    image = cv2.imread(data[i][\"imagePath\"])\n",
        "    (top, right, bottom, left) = data[i][\"loc\"]\n",
        "    face = image[top:bottom, left:right]\n",
        "    # force resize the face ROI to 96x96 and then add it to the\n",
        "    # faces montage list\n",
        "    face = cv2.resize(face, (96, 96))\n",
        "    faces.append(face)\n",
        "  montage = build_montages(faces, (96, 96), (5, 5))[0]\n",
        "  \n",
        "  # show the output montage\n",
        "  title = \"Face ID #{}\".format(labelID)\n",
        "  title = \"Unknown Faces\" if labelID == -1 else title\n",
        "  cv2_imshow(montage)"
      ],
      "execution_count": null,
      "outputs": []
    },
    {
      "cell_type": "code",
      "metadata": {
        "id": "sGu0LmEYLNgS",
        "colab": {
          "base_uri": "https://localhost:8080/"
        },
        "outputId": "58ef9426-2b50-4d98-a922-7faf8699e5f0"
      },
      "source": [
        "#@title ← Enter names of persons by ID <font size=\"2\"> (Serialwise) (comma separated) </font>\n",
        "\n",
        "Cluster_Names = 'face1,face2,face3' #@param {type:\"string\"}\n",
        "#Names = 'abc' #@param {type:\"string\"}\n",
        "#Choices = 'Personal GDrive images' #@param [\"Online images\", \"Personal GDrive images\"]\n",
        "Cluster_Names_lower = Cluster_Names.lower().replace(' ', '_')\n",
        "Cluster_var_list = Cluster_Names_lower.split(\",\")\n",
        "#print(Names)\n",
        "Cluster_my_list =Cluster_Names.split(\",\")\n",
        "if ((len(labelIDs)-1) == len(Cluster_my_list)):\n",
        "  print(\"Selected names:\")\n",
        "  for i in range(len(labelIDs)-1):\n",
        "    print(labelIDs[i+1], ':',Cluster_my_list[i] )\n",
        "else :\n",
        "    print(\"Incorrect number of names entered\")\n",
        "\n",
        "# print('Selected: ')\n",
        "# print(*Cluster_my_list, sep = \", \")  \n",
        "\n",
        "#print(text_and_dropdown)"
      ],
      "execution_count": null,
      "outputs": [
        {
          "output_type": "stream",
          "text": [
            "Selected names:\n",
            "0 : face1\n",
            "1 : face2\n",
            "2 : face3\n"
          ],
          "name": "stdout"
        }
      ]
    },
    {
      "cell_type": "code",
      "metadata": {
        "id": "le5WyutCwaby"
      },
      "source": [
        "#@title ← Run to start renaming files\n",
        "loadingAn(name=\"lds\")\n",
        "textAn(\"Renaming files...\", ty='twg')\n",
        "\n",
        "count=0\n",
        "for labelID in labelIDs[1:]:\n",
        "  idxs = np.where(clt.labels_ == labelID)[0]\n",
        "  idxs = np.random.choice(idxs, size=(len(idxs)),\n",
        "    replace=False)\n",
        "  faces = []\n",
        "  for i in idxs:\n",
        "    src = data[i][\"imagePath\"]\n",
        "    a = src.split(os.path.sep)\n",
        "    b = a[:-1]\n",
        "    c = '/'.join(b)\n",
        "    var = Cluster_my_list[labelID]\n",
        "    d = os.path.join(c,str(var)+'_'+str(i)+'.jpg') \n",
        "    os.rename(src, d) \n",
        "    count+=1\n",
        "clear_output()\n",
        "print(\" %d Files renamed\" % count)"
      ],
      "execution_count": null,
      "outputs": []
    }
  ]
}