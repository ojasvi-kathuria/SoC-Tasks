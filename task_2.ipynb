{
  "nbformat": 4,
  "nbformat_minor": 0,
  "metadata": {
    "colab": {
      "name": "task 2",
      "provenance": [],
      "collapsed_sections": []
    },
    "kernelspec": {
      "name": "python3",
      "display_name": "Python 3"
    },
    "language_info": {
      "name": "python"
    }
  },
  "cells": [
    {
      "cell_type": "code",
      "metadata": {
        "id": "xJzgp2cEpMgh"
      },
      "source": [
        "import pandas as pd\n",
        "import matplotlib.pyplot as plt\n",
        "df = pd.read_csv('Dataset.csv')"
      ],
      "execution_count": 9,
      "outputs": []
    },
    {
      "cell_type": "code",
      "metadata": {
        "id": "NtuwFB2Vz47r"
      },
      "source": [
        "df.head()"
      ],
      "execution_count": null,
      "outputs": []
    },
    {
      "cell_type": "code",
      "metadata": {
        "id": "Aygi7MpZ0rsm",
        "colab": {
          "base_uri": "https://localhost:8080/"
        },
        "outputId": "6e54c1bd-799a-4a74-b68b-e7a3a46092fc"
      },
      "source": [
        "df.columns"
      ],
      "execution_count": 11,
      "outputs": [
        {
          "output_type": "execute_result",
          "data": {
            "text/plain": [
              "Index(['country', 'year', 'sex', 'age', 'suicides_no', 'population',\n",
              "       'suicides/100k pop', 'country-year', 'HDI for year',\n",
              "       ' gdp_for_year ($) ', 'gdp_per_capita ($)', 'generation'],\n",
              "      dtype='object')"
            ]
          },
          "metadata": {
            "tags": []
          },
          "execution_count": 11
        }
      ]
    },
    {
      "cell_type": "code",
      "metadata": {
        "id": "HTmz9cBWG-29",
        "colab": {
          "base_uri": "https://localhost:8080/",
          "height": 1000
        },
        "outputId": "84a5ad32-9ffb-43ef-9243-d3465d5fcb56"
      },
      "source": [
        "my_list= ['country','sex', 'age', 'generation']\n",
        "for col in my_list:\n",
        "  df[col].hist()\n",
        "  plt.show()"
      ],
      "execution_count": 21,
      "outputs": [
        {
          "output_type": "display_data",
          "data": {
            "image/png": "[encoded data removed]",
            "text/plain": [
              "<Figure size 432x288 with 1 Axes>"
            ]
          },
          "metadata": {
            "tags": [],
            "needs_background": "light"
          }
        },
        {
          "output_type": "display_data",
          "data": {
            "image/png": "[encoded data removed]",
            "text/plain": [
              "<Figure size 432x288 with 1 Axes>"
            ]
          },
          "metadata": {
            "tags": [],
            "needs_background": "light"
          }
        },
        {
          "output_type": "display_data",
          "data": {
            "image/png": "[encoded data removed]",
            "text/plain": [
              "<Figure size 432x288 with 1 Axes>"
            ]
          },
          "metadata": {
            "tags": [],
            "needs_background": "light"
          }
        },
        {
          "output_type": "display_data",
          "data": {
            "image/png": "[encoded data removed]",
            "text/plain": [
              "<Figure size 432x288 with 1 Axes>"
            ]
          },
          "metadata": {
            "tags": [],
            "needs_background": "light"
          }
        }
      ]
    },
    {
      "cell_type": "code",
      "metadata": {
        "id": "40DaYff1xzxF",
        "colab": {
          "base_uri": "https://localhost:8080/"
        },
        "outputId": "d2031836-a7e5-4733-f66c-2e65168a0a7f"
      },
      "source": [
        "my_list= ['country','sex', 'age', 'generation']\n",
        "df1 = df[my_list]\n",
        "print(df1.mode().loc[0])\n"
      ],
      "execution_count": 26,
      "outputs": [
        {
          "output_type": "stream",
          "text": [
            "country            Austria\n",
            "sex                 female\n",
            "age            15-24 years\n",
            "generation    Generation X\n",
            "Name: 0, dtype: object\n"
          ],
          "name": "stdout"
        }
      ]
    },
    {
      "cell_type": "markdown",
      "metadata": {
        "id": "eR7ZTwRRW_sw"
      },
      "source": [
        "good number of bins"
      ]
    },
    {
      "cell_type": "code",
      "metadata": {
        "id": "FhkdQ1GnVS0D"
      },
      "source": [
        "my_list2 =['year','suicides_no','population','suicides/100k pop', 'country-year','HDI for year', 'gdp_for_year', 'gdp_per_capita']\n",
        "for col in my_list2:\n",
        "  df[col].hist(bins=20)\n",
        "  plt.show()"
      ],
      "execution_count": null,
      "outputs": []
    },
    {
      "cell_type": "markdown",
      "metadata": {
        "id": "3-CNlVjDXq0p"
      },
      "source": [
        "too many bins"
      ]
    },
    {
      "cell_type": "code",
      "metadata": {
        "id": "fZecADnJXqO0"
      },
      "source": [
        "my_list2 =['year','suicides_no','population','suicides/100k pop', 'country-year','HDI for year', 'gdp_for_year', 'gdp_per_capita']\n",
        "for col in my_list2:\n",
        "  df[col].hist(bins=100)\n",
        "  plt.show()"
      ],
      "execution_count": null,
      "outputs": []
    },
    {
      "cell_type": "markdown",
      "metadata": {
        "id": "IPMz7Q6uXy8q"
      },
      "source": [
        "too few bins"
      ]
    },
    {
      "cell_type": "code",
      "metadata": {
        "id": "nkbhngwMXLnF"
      },
      "source": [
        "my_list2 =['year','suicides_no','population','suicides/100k pop', 'country-year','HDI for year', 'gdp_for_year', 'gdp_per_capita']\n",
        "for col in my_list2:\n",
        "  df[col].hist(bins=3)\n",
        "  plt.show()"
      ],
      "execution_count": null,
      "outputs": []
    },
    {
      "cell_type": "markdown",
      "metadata": {
        "id": "fcoUE2AK2YM5"
      },
      "source": [
        "box plot"
      ]
    },
    {
      "cell_type": "code",
      "metadata": {
        "id": "1AZA5uYVX-1a"
      },
      "source": [
        "my_list3=['year','suicides_no','population','suicides/100k pop']\n",
        "\n",
        "for col in my_list3:\n",
        "  df[col].plot(kind='box')\n",
        "  plt.show()"
      ],
      "execution_count": null,
      "outputs": []
    },
    {
      "cell_type": "code",
      "metadata": {
        "id": "lIW3m_qoa9X6"
      },
      "source": [
        ""
      ],
      "execution_count": null,
      "outputs": []
    },
    {
      "cell_type": "code",
      "metadata": {
        "id": "bOHmd5N2aibI",
        "colab": {
          "base_uri": "https://localhost:8080/"
        },
        "outputId": "8df951f9-7252-48a2-b5b9-93d96667bcff"
      },
      "source": [
        "my_list2 =['year','suicides_no','population','suicides/100k pop', 'country-year','HDI for year',' gdp_for_year ($) ', 'gdp_per_capita ($)']\n",
        "df3= df[my_list2]\n",
        "k=df3.describe()\n",
        "\n",
        "l1  = k.iloc[6]\n",
        "l2 = k.iloc[4]\n",
        "\n",
        "k.loc[\"IQR\"] = l1-l2\n",
        "print(k)"
      ],
      "execution_count": 58,
      "outputs": [
        {
          "output_type": "stream",
          "text": [
            "               year   suicides_no  ...  HDI for year  gdp_per_capita ($)\n",
            "count  27820.000000  27820.000000  ...   8364.000000        27820.000000\n",
            "mean    2001.258375    242.574407  ...      0.776601        16866.464414\n",
            "std        8.469055    902.047917  ...      0.093367        18887.576472\n",
            "min     1985.000000      0.000000  ...      0.483000          251.000000\n",
            "25%     1995.000000      3.000000  ...      0.713000         3447.000000\n",
            "50%     2002.000000     25.000000  ...      0.779000         9372.000000\n",
            "75%     2008.000000    131.000000  ...      0.855000        24874.000000\n",
            "max     2016.000000  22338.000000  ...      0.944000       126352.000000\n",
            "IQR       13.000000    128.000000  ...      0.142000        21427.000000\n",
            "\n",
            "[9 rows x 6 columns]\n"
          ],
          "name": "stdout"
        }
      ]
    }
  ]
}