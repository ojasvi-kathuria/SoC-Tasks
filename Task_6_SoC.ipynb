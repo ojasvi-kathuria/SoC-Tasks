{
  "nbformat": 4,
  "nbformat_minor": 0,
  "metadata": {
    "colab": {
      "name": "Task 6 SoC.ipynb",
      "provenance": []
    },
    "kernelspec": {
      "name": "python3",
      "display_name": "Python 3"
    },
    "language_info": {
      "name": "python"
    }
  },
  "cells": [
    {
      "cell_type": "code",
      "metadata": {
        "id": "s0srxtLkf7EH"
      },
      "source": [
        "Task 6 drive link:\n",
        "https://drive.google.com/drive/folders/1PzsNzqGXvzYgs1ei2mNxSgxmsZSETJtB?usp=sharing"
      ],
      "execution_count": null,
      "outputs": []
    }
  ]
}